{
  "nbformat": 4,
  "nbformat_minor": 0,
  "metadata": {
    "colab": {
      "name": "Sheet4_Evaluation.ipynb",
      "version": "0.3.2",
      "provenance": [],
      "collapsed_sections": []
    },
    "kernelspec": {
      "name": "python3",
      "display_name": "Python 3"
    }
  },
  "cells": [
    {
      "metadata": {
        "id": "Bthgyxx3wSuX",
        "colab_type": "code",
        "colab": {}
      },
      "cell_type": "code",
      "source": [
        "from sklearn.cluster import KMeans\n",
        "import numpy as np\n",
        "kvalues=[2,3,4,5,6,2,2,3,3,4,4,5,5,6,6]\n",
        "printList =[\"Kmeans clustering when k =2\",\"Kmeans clustering when k =3\",\"Kmeans clustering when k =4\",\"Kmeans clustering when k =5\",\"Kmeans clustering when k =6\",\n",
        "           \"Kmeans clustering when k =2 and gamma=0.01\",\"Kmeans clustering when k =2 and gamma=0.1\",\"Kmeans clustering when k =3 and gamma=0.01\",\"Kmeans clustering when k =3 and gamma=0.1\"\n",
        "            ,\"Kmeans clustering when k =4 and gamma=0.01\",\"Kmeans clustering when k =4 and gamma=0.1\",\"Kmeans clustering when k =5 and gamma =0.01\",\"Kmeans clustering when k =5 and gamma =0.1\"\n",
        "            ,\"Kmeans clustering when k =6 and gamma =0.01\",\"Kmeans clustering when k =6 and gamma =0.1\"]\n"
      ],
      "execution_count": 0,
      "outputs": []
    },
    {
      "metadata": {
        "id": "guupkTI072FY",
        "colab_type": "text"
      },
      "cell_type": "markdown",
      "source": [
        "# a. Using Kmeans: set K=2,3,4,5,6. Report different clustering results."
      ]
    },
    {
      "metadata": {
        "id": "AF3Q0Jm575Vr",
        "colab_type": "code",
        "outputId": "d4987f62-7d27-4ccc-c68b-45c79f9652d7",
        "colab": {
          "base_uri": "https://localhost:8080/",
          "height": 104
        }
      },
      "cell_type": "code",
      "source": [
        "#Question 1\n",
        "data_array = [[2,4],[4,4],[3,4],[5,4],[5,6],[5,8],[6,4],[6,5],[6,7],[7,3],[7,4],[8,2],[9,4],[10,6],[10,7],[10,8],[11,5],[11,8],[12,7],[13,6],[13,7],[14,6],[15,5],[15,4]]\n",
        "data_array = np.array(data_array);\n",
        "kmeanLabels = []\n",
        "for i in range(2,7):\n",
        " kmeans = KMeans(n_clusters=i, random_state=0).fit(data_array)\n",
        " kmeanLabels.append(kmeans.labels_)\n",
        "#kmeanLabels = np.array(kmeanLabels)\n",
        "print(np.array(kmeanLabels))\n"
      ],
      "execution_count": 0,
      "outputs": [
        {
          "output_type": "stream",
          "text": [
            "[[0 0 0 0 0 0 0 0 0 0 0 0 0 1 1 1 1 1 1 1 1 1 1 1]\n",
            " [1 1 1 1 1 1 1 1 1 1 1 1 2 2 2 2 2 2 2 0 0 0 0 0]\n",
            " [3 3 3 3 3 3 1 3 3 1 1 1 1 0 0 0 0 0 0 2 0 2 2 2]\n",
            " [4 4 4 4 3 3 1 1 3 1 1 1 1 0 0 0 0 0 0 2 2 2 2 2]\n",
            " [4 4 4 4 3 3 1 3 3 1 1 1 1 2 2 2 2 2 0 0 0 0 5 5]]\n"
          ],
          "name": "stdout"
        }
      ]
    },
    {
      "metadata": {
        "id": "CFPpFGxf8wIJ",
        "colab_type": "text"
      },
      "cell_type": "markdown",
      "source": [
        "# b)i)Use RBF kernel with gamma = {0.01,0.1}. Report the Report\n",
        "# different clustering results."
      ]
    },
    {
      "metadata": {
        "id": "rSoqqQmc81bf",
        "colab_type": "code",
        "outputId": "a35af6c2-42b5-4c15-ea69-28f770421750",
        "colab": {
          "base_uri": "https://localhost:8080/",
          "height": 277
        }
      },
      "cell_type": "code",
      "source": [
        "from sklearn.cluster import SpectralClustering\n",
        "for i in range(2,7):\n",
        " #we calculate RBF -->np.exp(-gamma * d(X,X) ** 2)\n",
        " clustering1 = SpectralClustering(gamma=0.01,n_clusters=i,assign_labels=\"discretize\",random_state=0).fit(data_array)\n",
        " clustering2 = SpectralClustering(gamma=0.1,n_clusters=i,assign_labels=\"discretize\",random_state=0).fit(data_array)\n",
        " kmeanLabels.append(clustering1.labels_)\n",
        " kmeanLabels.append(clustering2.labels_)\n",
        "print(np.array(kmeanLabels))"
      ],
      "execution_count": 0,
      "outputs": [
        {
          "output_type": "stream",
          "text": [
            "[[0 0 0 0 0 0 0 0 0 0 0 0 0 1 1 1 1 1 1 1 1 1 1 1]\n",
            " [1 1 1 1 1 1 1 1 1 1 1 1 2 2 2 2 2 2 2 0 0 0 0 0]\n",
            " [3 3 3 3 3 3 1 3 3 1 1 1 1 0 0 0 0 0 0 2 0 2 2 2]\n",
            " [4 4 4 4 3 3 1 1 3 1 1 1 1 0 0 0 0 0 0 2 2 2 2 2]\n",
            " [4 4 4 4 3 3 1 3 3 1 1 1 1 2 2 2 2 2 0 0 0 0 5 5]\n",
            " [1 1 1 1 1 1 1 1 1 1 1 1 0 0 0 0 0 0 0 0 0 0 0 0]\n",
            " [1 1 1 1 1 1 1 1 1 1 1 1 1 0 0 0 0 0 0 0 0 0 0 0]\n",
            " [1 1 1 1 1 0 1 1 0 1 1 2 2 0 0 0 2 0 0 2 0 2 2 2]\n",
            " [1 1 1 1 1 1 1 1 1 1 1 1 0 0 0 0 0 0 0 2 2 2 2 2]\n",
            " [3 3 3 3 3 0 1 3 0 1 1 1 1 0 0 0 1 0 0 2 2 2 2 2]\n",
            " [1 1 1 1 1 1 3 3 1 3 3 3 3 0 0 0 0 0 0 2 2 2 2 2]\n",
            " [4 4 4 4 1 1 3 1 1 3 3 3 3 0 0 0 3 0 0 2 2 2 2 2]\n",
            " [1 1 1 1 4 4 3 4 4 3 3 3 3 0 0 0 0 0 0 2 2 2 2 2]\n",
            " [2 2 2 2 3 3 2 3 3 2 2 2 1 5 0 0 1 0 0 4 4 4 4 4]\n",
            " [1 1 1 1 4 4 3 4 4 3 3 3 5 5 0 0 5 0 0 2 0 2 2 2]]\n"
          ],
          "name": "stdout"
        }
      ]
    },
    {
      "metadata": {
        "id": "urI7DTo1EUGF",
        "colab_type": "text"
      },
      "cell_type": "markdown",
      "source": [
        "# ii. Use Similarity graph as the {3,5}-NN graph. Where Sim(xi,xj)=1\n",
        "# iff xj is one of the nearest three points to xi (or vise versa ). Report\n",
        "# different clustering results."
      ]
    },
    {
      "metadata": {
        "id": "CX75UnyMEdFX",
        "colab_type": "code",
        "outputId": "f9af0025-9289-4645-931b-16a45d291c2a",
        "colab": {
          "base_uri": "https://localhost:8080/",
          "height": 451
        }
      },
      "cell_type": "code",
      "source": [
        "from sklearn.cluster import SpectralClustering\n",
        "for i in range(2,7):\n",
        " clustering1 = SpectralClustering(affinity='nearest_neighbors',n_neighbors=3,n_clusters=i,assign_labels=\"discretize\",random_state=0).fit(data_array)\n",
        " kmeanLabels.append(clustering1.labels_)\n",
        " clustering2 = SpectralClustering(affinity='nearest_neighbors',n_neighbors=5,n_clusters=i,assign_labels=\"discretize\",random_state=0).fit(data_array)\n",
        " kmeanLabels.append(clustering2.labels_)\n",
        "print(np.array(kmeanLabels))\n",
        "kmeanLabels=np.array(kmeanLabels)"
      ],
      "execution_count": 0,
      "outputs": [
        {
          "output_type": "stream",
          "text": [
            "[[0 0 0 0 0 0 0 0 0 0 0 0 0 1 1 1 1 1 1 1 1 1 1 1]\n",
            " [1 1 1 1 1 1 1 1 1 1 1 1 2 2 2 2 2 2 2 0 0 0 0 0]\n",
            " [3 3 3 3 3 3 1 3 3 1 1 1 1 0 0 0 0 0 0 2 0 2 2 2]\n",
            " [4 4 4 4 3 3 1 1 3 1 1 1 1 0 0 0 0 0 0 2 2 2 2 2]\n",
            " [4 4 4 4 3 3 1 3 3 1 1 1 1 2 2 2 2 2 0 0 0 0 5 5]\n",
            " [1 1 1 1 1 1 1 1 1 1 1 1 0 0 0 0 0 0 0 0 0 0 0 0]\n",
            " [1 1 1 1 1 1 1 1 1 1 1 1 1 0 0 0 0 0 0 0 0 0 0 0]\n",
            " [1 1 1 1 1 0 1 1 0 1 1 2 2 0 0 0 2 0 0 2 0 2 2 2]\n",
            " [1 1 1 1 1 1 1 1 1 1 1 1 0 0 0 0 0 0 0 2 2 2 2 2]\n",
            " [3 3 3 3 3 0 1 3 0 1 1 1 1 0 0 0 1 0 0 2 2 2 2 2]\n",
            " [1 1 1 1 1 1 3 3 1 3 3 3 3 0 0 0 0 0 0 2 2 2 2 2]\n",
            " [4 4 4 4 1 1 3 1 1 3 3 3 3 0 0 0 3 0 0 2 2 2 2 2]\n",
            " [1 1 1 1 4 4 3 4 4 3 3 3 3 0 0 0 0 0 0 2 2 2 2 2]\n",
            " [2 2 2 2 3 3 2 3 3 2 2 2 1 5 0 0 1 0 0 4 4 4 4 4]\n",
            " [1 1 1 1 4 4 3 4 4 3 3 3 5 5 0 0 5 0 0 2 0 2 2 2]\n",
            " [1 1 1 1 1 1 1 1 1 1 1 1 1 0 0 0 0 0 0 0 0 0 0 0]\n",
            " [1 1 1 1 1 1 1 1 1 1 1 1 1 0 0 0 0 0 0 0 0 0 0 0]\n",
            " [2 2 2 2 2 2 2 2 2 2 2 2 0 0 0 0 0 0 1 1 1 1 1 1]\n",
            " [2 2 2 2 2 2 2 2 2 2 2 2 0 0 0 0 0 0 0 1 1 1 1 1]\n",
            " [3 3 3 3 2 2 2 2 2 2 2 2 0 0 0 0 0 0 1 1 1 1 1 1]\n",
            " [1 1 1 1 1 1 3 1 1 3 3 3 3 0 0 0 0 0 0 2 2 2 2 2]\n",
            " [1 1 1 1 2 2 4 2 2 4 4 4 4 0 0 0 0 0 3 3 3 3 3 3]\n",
            " [1 1 1 1 2 2 4 2 2 4 4 4 4 0 0 0 0 0 0 3 3 3 3 3]\n",
            " [1 1 1 1 2 2 5 2 2 5 5 5 5 0 0 0 0 0 4 4 4 3 3 3]\n",
            " [2 2 2 2 4 4 1 4 4 1 1 1 5 5 0 0 5 0 0 3 3 3 3 3]]\n"
          ],
          "name": "stdout"
        }
      ]
    },
    {
      "metadata": {
        "id": "bAiBbrDAucs5",
        "colab_type": "text"
      },
      "cell_type": "markdown",
      "source": [
        "# Needed Functions"
      ]
    },
    {
      "metadata": {
        "id": "RdMFjG_mKvBt",
        "colab_type": "text"
      },
      "cell_type": "markdown",
      "source": [
        "# C)Compute the external measures we studied such as\n",
        "## 1. Conditional Entropy"
      ]
    },
    {
      "metadata": {
        "id": "JkG0z-F9ue8W",
        "colab_type": "code",
        "colab": {}
      },
      "cell_type": "code",
      "source": [
        "trueCluster=[0 ,0 ,0 ,1 ,1 ,1 ,1 ,1 ,1 ,1 ,1 ,1 ,1 ,2 ,2 ,2 ,2 ,2 ,2 ,2 ,2 ,2 ,2 ,2 ]\n",
        "startof0 =0;\n",
        "endof0 = 3;\n",
        "startof1 =3;\n",
        "endof1 = 13;\n",
        "startof2 = 13;\n",
        "endof2 = 24;\n",
        "def Euclidean(a,b):\n",
        "     return math.sqrt((a[0]-b[0])**2 +(a[1]-b[1])**2)\n",
        "def mapClusterwithtrueOne(clusters,k):\n",
        "  mp =np.zeros((3,k))\n",
        "  for i in range(0,3):\n",
        "    for j in range(0,k):\n",
        "      mp[i][j]=0;\n",
        "  for i in range(0,24):\n",
        "    mp[trueCluster[i]][clusters[i]]=mp[trueCluster[i]][clusters[i]]+1;\n",
        "  return mp\n",
        "def totalSum(arr,k):\n",
        "  sum=0;\n",
        "  for i in range(0,k):\n",
        "    sum+=arr[i];\n",
        "  return sum"
      ],
      "execution_count": 0,
      "outputs": []
    },
    {
      "metadata": {
        "id": "C7XOZ2u8KqRh",
        "colab_type": "code",
        "colab": {}
      },
      "cell_type": "code",
      "source": [
        "import math\n",
        "def compute_Entropy(clusters,k):\n",
        "    mymap = mapClusterwithtrueOne(clusters,k)\n",
        "    for i in range(0,3):\n",
        "      print(\"Entropy for cluster  \",i+1)\n",
        "      sum = totalSum(mymap[i],k)\n",
        "      entropy =0;\n",
        "      for j in range(0,k):\n",
        "        if(mymap[i][j] ==0):\n",
        "           entropy -=(mymap[i][j]/sum)\n",
        "        else: \n",
        "           entropy -=(mymap[i][j]/sum)*math.log(mymap[i][j]/sum,2)\n",
        "      entropy = entropy * (sum/24)\n",
        "      print(\"=\",entropy)    \n"
      ],
      "execution_count": 0,
      "outputs": []
    },
    {
      "metadata": {
        "id": "Uy0gjSLd0b10",
        "colab_type": "text"
      },
      "cell_type": "markdown",
      "source": [
        "# 2. Purity\n"
      ]
    },
    {
      "metadata": {
        "id": "oXOuKitF0hSb",
        "colab_type": "code",
        "colab": {}
      },
      "cell_type": "code",
      "source": [
        "def compute_Purity(clusters,k):\n",
        "    mymap = mapClusterwithtrueOne(clusters,k)\n",
        "    totalpurity=0\n",
        "    for i in range(0,3):\n",
        "      purity=0\n",
        "      sum = totalSum(mymap[i],k)\n",
        "      purity = np.amax(mymap[i])/sum\n",
        "      totalpurity += (sum/24)*purity\n",
        "    print(\"Purity =\",totalpurity)    "
      ],
      "execution_count": 0,
      "outputs": []
    },
    {
      "metadata": {
        "id": "GnBCj02c7F00",
        "colab_type": "text"
      },
      "cell_type": "markdown",
      "source": [
        "# 3. Pairwise measures (Jaccard and Rand index)\n"
      ]
    },
    {
      "metadata": {
        "id": "8At7B0He7JOn",
        "colab_type": "code",
        "colab": {}
      },
      "cell_type": "code",
      "source": [
        "def Pairwise(clusters,k):\n",
        "  TP=0;\n",
        "  FP = 0\n",
        "  FN = 0\n",
        "  TN = 0\n",
        "  for i  in range(0,24):\n",
        "    for j in range(i+1,24):\n",
        "      if clusters[i] == clusters[j]:\n",
        "        if trueCluster[i] ==  trueCluster[j]:\n",
        "          TP +=1\n",
        "        else:\n",
        "          FP +=1\n",
        "      else:\n",
        "        if trueCluster[i] ==  trueCluster[j]:\n",
        "          FN +=1\n",
        "        else:\n",
        "          TN +=1\n",
        "  rand = (TP + TN)/(TP + TN +FP + FN)\n",
        "  jaccard = (TP)/(FN + TP + FP)\n",
        "  print(\"Rand = \",rand)\n",
        "  print(\"Jaccard = \",jaccard)\n",
        "  \n",
        "      "
      ],
      "execution_count": 0,
      "outputs": []
    },
    {
      "metadata": {
        "id": "7cn5nkLoaJrk",
        "colab_type": "text"
      },
      "cell_type": "markdown",
      "source": [
        "# 4. MaxMatching"
      ]
    },
    {
      "metadata": {
        "id": "wDr2CHkDaMit",
        "colab_type": "code",
        "colab": {}
      },
      "cell_type": "code",
      "source": [
        "def MaxMatching(clusters):\n",
        "  mymap = mapClusterwithtrueOne(clusters,3)\n",
        "  mx = 0\n",
        "  mx = max(mymap[0][0]+mymap[1,1]+mymap[2,2],mymap[0][0]+mymap[1,2]+mymap[2,1],\n",
        "                  mymap[0][1]+mymap[1,0]+mymap[2,2],mymap[0][1]+mymap[1,2]+mymap[2,0],\n",
        "                  mymap[0][2]+mymap[1,1]+mymap[2,0],mymap[0][2]+mymap[1,0]+mymap[2,1])\n",
        "  print(\"MaxMatching = \",mx/24)"
      ],
      "execution_count": 0,
      "outputs": []
    },
    {
      "metadata": {
        "id": "9Ckm_qgQNTZy",
        "colab_type": "text"
      },
      "cell_type": "markdown",
      "source": [
        "# 5. FMeasure"
      ]
    },
    {
      "metadata": {
        "id": "vsrvWNEJNSqC",
        "colab_type": "code",
        "colab": {}
      },
      "cell_type": "code",
      "source": [
        "def compute_FMeasure(clusters,k):\n",
        "  mymap = mapClusterwithtrueOne(clusters,k)\n",
        "  F = 0\n",
        "  for i in range(0,3):\n",
        "    sum = totalSum(mymap[i],k)\n",
        "    prec =np.amax(mymap[i])/sum\n",
        "    indx = np.argmax(mymap[i])\n",
        "    recall = np.amax(mymap[i])/totalSum(mymap[:,indx],3)\n",
        "    F += (2*prec*recall)/(prec+recall)\n",
        "  print(\"FMeasure= \",F/k)"
      ],
      "execution_count": 0,
      "outputs": []
    },
    {
      "metadata": {
        "id": "ibPKnouNj4Ip",
        "colab_type": "text"
      },
      "cell_type": "markdown",
      "source": [
        "# Internal Measure"
      ]
    },
    {
      "metadata": {
        "id": "SWdpkAlMj6wV",
        "colab_type": "text"
      },
      "cell_type": "markdown",
      "source": [
        "# BetaCV"
      ]
    },
    {
      "metadata": {
        "id": "zb1xBZaIZT5y",
        "colab_type": "code",
        "colab": {}
      },
      "cell_type": "code",
      "source": [
        "\n",
        "#compact ---> between cluster and itself\n",
        "def win(labels):\n",
        "    w = 0\n",
        "    for i in range(0,24):\n",
        "       for j in range(0,24):\n",
        "         if labels[i] == labels[j] :\n",
        "           w += Euclidean(data_array[i],data_array[j])\n",
        "    return w/2\n",
        " #between cluster and others\n",
        "def wout(labels):\n",
        "    w = 0\n",
        "    for i in range(0,24):\n",
        "       for j in range(0,24):\n",
        "         if labels[i] != labels[j] :\n",
        "           w += Euclidean(data_array[i],data_array[j])\n",
        "\n",
        "    return w/2\n",
        "def betaCV(labels,k):\n",
        "    ni = np.zeros((k,1))\n",
        "# cluster sizes\n",
        "    for i in range(0,24):\n",
        "       ni[labels[i]] += 1\n",
        "    Nin = 0\n",
        "    for i in range(0,k):\n",
        "       Nin += ni[i]*(ni[i]-1)\n",
        "    Nin *= 0.5\n",
        "    Nout = 0\n",
        "    for i in range(0,k):\n",
        "     for j in range(i+1,k):\n",
        "       Nout += ni[i] * ni[j]\n",
        "    print(Nout*win(labels) / (Nin*wout(labels)))"
      ],
      "execution_count": 0,
      "outputs": []
    },
    {
      "metadata": {
        "id": "ghp776hXbb3X",
        "colab_type": "code",
        "colab": {}
      },
      "cell_type": "code",
      "source": [
        ""
      ],
      "execution_count": 0,
      "outputs": []
    },
    {
      "metadata": {
        "id": "_4l3C0GlRYzx",
        "colab_type": "text"
      },
      "cell_type": "markdown",
      "source": [
        "# Normalized cut"
      ]
    },
    {
      "metadata": {
        "id": "gpMm2G_FRa12",
        "colab_type": "code",
        "colab": {}
      },
      "cell_type": "code",
      "source": [
        "def Normalized_Cut(labels,k):\n",
        "  nc = 0\n",
        "  for i in range(0,k):\n",
        "    w1 = 0\n",
        "    w2 = 0\n",
        "    for j in range(0,24):\n",
        "      if labels[j] != i :\n",
        "         continue\n",
        "    for k in range(0,24):\n",
        "       dis = Euclidean(data_array[j],data_array[k])\n",
        "       if labels[k] == labels[j] :\n",
        "             w1 += dis\n",
        "       else:\n",
        "           w2 += dis\n",
        "  nc += 1/((w1/w2)+1)\n",
        "  print(\"Normalized cut\",nc)"
      ],
      "execution_count": 0,
      "outputs": []
    },
    {
      "metadata": {
        "id": "IVzIDUQclrfy",
        "colab_type": "text"
      },
      "cell_type": "markdown",
      "source": [
        "# Calculation"
      ]
    },
    {
      "metadata": {
        "id": "8ca-e4Thlrr-",
        "colab_type": "code",
        "outputId": "4e3c0255-38de-4232-b28a-cd9f0f91a0e3",
        "colab": {
          "base_uri": "https://localhost:8080/",
          "height": 3927
        }
      },
      "cell_type": "code",
      "source": [
        "\n",
        "for i in range(0,len(kmeanLabels)):\n",
        "  print(printList[i])\n",
        "  print(kmeanLabels[i])\n",
        "  compute_Entropy(kmeanLabels[i],kvalues[i])\n",
        "  compute_Purity(kmeanLabels[i],kvalues[i])\n",
        "  Pairwise(kmeanLabels[i],kvalues[i])\n",
        "  compute_FMeasure(kmeanLabels[i],kvalues[i])\n",
        "  betaCV(kmeanLabels[i],kvalues[i])\n",
        "  Normalized_Cut(kmeanLabels[i],kvalues[i])\n",
        "  if kvalues[i]==3:\n",
        "     MaxMatching(kmeanLabels[i])\n",
        "  \n",
        "  "
      ],
      "execution_count": 0,
      "outputs": [
        {
          "output_type": "stream",
          "text": [
            "Kmeans clustering when k =2\n",
            "[0 0 0 0 0 0 0 0 0 0 0 0 0 1 1 1 1 1 1 1 1 1 1 1]\n",
            "Entropy for cluster   1\n",
            "= 0.0\n",
            "Entropy for cluster   2\n",
            "= 0.0\n",
            "Entropy for cluster   3\n",
            "= 0.0\n",
            "Purity = 1.0\n",
            "Rand =  0.8913043478260869\n",
            "Jaccard =  0.7744360902255639\n",
            "FMeasure=  1.1222826086956523\n",
            "[0.4324087]\n",
            "Normalized cut 0.7498748080414097\n",
            "Kmeans clustering when k =3\n",
            "[1 1 1 1 1 1 1 1 1 1 1 1 2 2 2 2 2 2 2 0 0 0 0 0]\n",
            "Entropy for cluster   1\n",
            "= 0.0\n",
            "Entropy for cluster   2\n",
            "= 0.19541483066220053\n",
            "Entropy for cluster   3\n",
            "= 0.4555971802602717\n",
            "Purity = 0.75\n",
            "Rand =  0.7391304347826086\n",
            "Jaccard =  0.47058823529411764\n",
            "FMeasure=  0.6282828282828282\n",
            "[0.42794904]\n",
            "Normalized cut 0.9414521502010061\n",
            "MaxMatching =  0.625\n",
            "Kmeans clustering when k =4\n",
            "[3 3 3 3 3 3 1 3 3 1 1 1 1 0 0 0 0 0 0 2 0 2 2 2]\n",
            "Entropy for cluster   1\n",
            "= 0.0\n",
            "Entropy for cluster   2\n",
            "= 0.4166666666666667\n",
            "Entropy for cluster   3\n",
            "= 0.43342763960862674\n",
            "Purity = 0.625\n",
            "Rand =  0.7536231884057971\n",
            "Jaccard =  0.423728813559322\n",
            "FMeasure=  0.4974747474747474\n",
            "[0.37818537]\n",
            "Normalized cut 0.9632821669633898\n",
            "Kmeans clustering when k =5\n",
            "[4 4 4 4 3 3 1 1 3 1 1 1 1 0 0 0 0 0 0 2 2 2 2 2]\n",
            "Entropy for cluster   1\n",
            "= 0.0\n",
            "Entropy for cluster   2\n",
            "= 0.5397757684326342\n",
            "Entropy for cluster   3\n",
            "= 0.4555971802602717\n",
            "Purity = 0.625\n",
            "Rand =  0.782608695652174\n",
            "Jaccard =  0.4339622641509434\n",
            "FMeasure=  0.4626050420168067\n",
            "[0.32170029]\n",
            "Normalized cut 0.9414521502010061\n",
            "Kmeans clustering when k =6\n",
            "[4 4 4 4 3 3 1 3 3 1 1 1 1 2 2 2 2 2 0 0 0 0 5 5]\n",
            "Entropy for cluster   1\n",
            "= 0.0\n",
            "Entropy for cluster   2\n",
            "= 0.5670683531015339\n",
            "Entropy for cluster   3\n",
            "= 0.6851711387738941\n",
            "Purity = 0.5416666666666667\n",
            "Rand =  0.7463768115942029\n",
            "Jaccard =  0.33962264150943394\n",
            "FMeasure=  0.35813492063492064\n",
            "[0.30170215]\n",
            "Normalized cut 0.9939454427091529\n",
            "Kmeans clustering when k =2 and gamma=0.01\n",
            "[1 1 1 1 1 1 1 1 1 1 1 1 0 0 0 0 0 0 0 0 0 0 0 0]\n",
            "Entropy for cluster   1\n",
            "= 0.0\n",
            "Entropy for cluster   2\n",
            "= 0.19541483066220053\n",
            "Entropy for cluster   3\n",
            "= 0.0\n",
            "Purity = 0.9583333333333333\n",
            "Rand =  0.8297101449275363\n",
            "Jaccard =  0.6666666666666666\n",
            "FMeasure=  1.0873517786561266\n",
            "[0.43636769]\n",
            "Normalized cut 0.7135474642963268\n",
            "Kmeans clustering when k =2 and gamma=0.1\n",
            "[1 1 1 1 1 1 1 1 1 1 1 1 1 0 0 0 0 0 0 0 0 0 0 0]\n",
            "Entropy for cluster   1\n",
            "= 0.0\n",
            "Entropy for cluster   2\n",
            "= 0.0\n",
            "Entropy for cluster   3\n",
            "= 0.0\n",
            "Purity = 1.0\n",
            "Rand =  0.8913043478260869\n",
            "Jaccard =  0.7744360902255639\n",
            "FMeasure=  1.1222826086956523\n",
            "[0.4324087]\n",
            "Normalized cut 0.7498748080414097\n",
            "Kmeans clustering when k =3 and gamma=0.01\n",
            "[1 1 1 1 1 0 1 1 0 1 1 2 2 0 0 0 2 0 0 2 0 2 2 2]\n",
            "Entropy for cluster   1\n",
            "= 0.0\n",
            "Entropy for cluster   2\n",
            "= 0.571229414356112\n",
            "Entropy for cluster   3\n",
            "= 0.4555971802602717\n",
            "Purity = 0.625\n",
            "Rand =  0.644927536231884\n",
            "Jaccard =  0.3146853146853147\n",
            "FMeasure=  0.587719298245614\n",
            "[0.51504319]\n",
            "Normalized cut 0.8579134015834787\n",
            "MaxMatching =  0.5\n",
            "Kmeans clustering when k =3 and gamma=0.1\n",
            "[1 1 1 1 1 1 1 1 1 1 1 1 0 0 0 0 0 0 0 2 2 2 2 2]\n",
            "Entropy for cluster   1\n",
            "= 0.0\n",
            "Entropy for cluster   2\n",
            "= 0.19541483066220053\n",
            "Entropy for cluster   3\n",
            "= 0.4555971802602717\n",
            "Purity = 0.75\n",
            "Rand =  0.7391304347826086\n",
            "Jaccard =  0.47058823529411764\n",
            "FMeasure=  0.6282828282828282\n",
            "[0.42794904]\n",
            "Normalized cut 0.9414521502010061\n",
            "MaxMatching =  0.625\n",
            "Kmeans clustering when k =4 and gamma=0.01\n",
            "[3 3 3 3 3 0 1 3 0 1 1 1 1 0 0 0 1 0 0 2 2 2 2 2]\n",
            "Entropy for cluster   1\n",
            "= 0.0\n",
            "Entropy for cluster   2\n",
            "= 0.6189480405113894\n",
            "Entropy for cluster   3\n",
            "= 0.6181027856723602\n",
            "Purity = 0.5416666666666667\n",
            "Rand =  0.6739130434782609\n",
            "Jaccard =  0.29133858267716534\n",
            "FMeasure=  0.4618055555555555\n",
            "[0.44531629]\n",
            "Normalized cut 0.9414521502010061\n",
            "Kmeans clustering when k =4 and gamma=0.1\n",
            "[1 1 1 1 1 1 3 3 1 3 3 3 3 0 0 0 0 0 0 2 2 2 2 2]\n",
            "Entropy for cluster   1\n",
            "= 0.0\n",
            "Entropy for cluster   2\n",
            "= 0.4045627476894453\n",
            "Entropy for cluster   3\n",
            "= 0.4555971802602717\n",
            "Purity = 0.625\n",
            "Rand =  0.7608695652173914\n",
            "Jaccard =  0.4260869565217391\n",
            "FMeasure=  0.5139705882352941\n",
            "[0.37255019]\n",
            "Normalized cut 0.9414521502010061\n",
            "Kmeans clustering when k =5 and gamma =0.01\n",
            "[4 4 4 4 1 1 3 1 1 3 3 3 3 0 0 0 3 0 0 2 2 2 2 2]\n",
            "Entropy for cluster   1\n",
            "= 0.0\n",
            "Entropy for cluster   2\n",
            "= 0.5670683531015339\n",
            "Entropy for cluster   3\n",
            "= 0.6181027856723603\n",
            "Purity = 0.5416666666666667\n",
            "Rand =  0.7391304347826086\n",
            "Jaccard =  0.35135135135135137\n",
            "FMeasure=  0.42142857142857143\n",
            "[0.35104427]\n",
            "Normalized cut 0.9414521502010061\n",
            "Kmeans clustering when k =5 and gamma =0.1\n",
            "[1 1 1 1 4 4 3 4 4 3 3 3 3 0 0 0 0 0 0 2 2 2 2 2]\n",
            "Entropy for cluster   1\n",
            "= 0.0\n",
            "Entropy for cluster   2\n",
            "= 0.5670683531015338\n",
            "Entropy for cluster   3\n",
            "= 0.4555971802602717\n",
            "Purity = 0.5833333333333334\n",
            "Rand =  0.7753623188405797\n",
            "Jaccard =  0.41509433962264153\n",
            "FMeasure=  0.4459383753501401\n",
            "[0.31972652]\n",
            "Normalized cut 0.9414521502010061\n",
            "Kmeans clustering when k =6 and gamma =0.01\n",
            "[2 2 2 2 3 3 2 3 3 2 2 2 1 5 0 0 1 0 0 4 4 4 4 4]\n",
            "Entropy for cluster   1\n",
            "= 0.0\n",
            "Entropy for cluster   2\n",
            "= 0.5670683531015338\n",
            "Entropy for cluster   3\n",
            "= 0.7685044721072276\n",
            "Purity = 0.5416666666666667\n",
            "Rand =  0.6956521739130435\n",
            "Jaccard =  0.29411764705882354\n",
            "FMeasure=  0.2876683501683502\n",
            "[0.4019425]\n",
            "Normalized cut 0.9414521502010061\n",
            "Kmeans clustering when k =6 and gamma =0.1\n",
            "[1 1 1 1 4 4 3 4 4 3 3 3 5 5 0 0 5 0 0 2 0 2 2 2]\n",
            "Entropy for cluster   1\n",
            "= 0.0\n",
            "Entropy for cluster   2\n",
            "= 0.717470039536401\n",
            "Entropy for cluster   3\n",
            "= 0.6851711387738941\n",
            "Purity = 0.5\n",
            "Rand =  0.7246376811594203\n",
            "Jaccard =  0.2962962962962963\n",
            "FMeasure=  0.3422619047619048\n",
            "[0.31116792]\n",
            "Normalized cut 0.9632821669633898\n"
          ],
          "name": "stdout"
        },
        {
          "output_type": "error",
          "ename": "IndexError",
          "evalue": "ignored",
          "traceback": [
            "\u001b[0;31m---------------------------------------------------------------------------\u001b[0m",
            "\u001b[0;31mIndexError\u001b[0m                                Traceback (most recent call last)",
            "\u001b[0;32m<ipython-input-99-3b05dc7557eb>\u001b[0m in \u001b[0;36m<module>\u001b[0;34m()\u001b[0m\n\u001b[1;32m      1\u001b[0m \u001b[0;34m\u001b[0m\u001b[0m\n\u001b[1;32m      2\u001b[0m \u001b[0;32mfor\u001b[0m \u001b[0mi\u001b[0m \u001b[0;32min\u001b[0m \u001b[0mrange\u001b[0m\u001b[0;34m(\u001b[0m\u001b[0;36m0\u001b[0m\u001b[0;34m,\u001b[0m\u001b[0mlen\u001b[0m\u001b[0;34m(\u001b[0m\u001b[0mkmeanLabels\u001b[0m\u001b[0;34m)\u001b[0m\u001b[0;34m)\u001b[0m\u001b[0;34m:\u001b[0m\u001b[0;34m\u001b[0m\u001b[0;34m\u001b[0m\u001b[0m\n\u001b[0;32m----> 3\u001b[0;31m   \u001b[0mprint\u001b[0m\u001b[0;34m(\u001b[0m\u001b[0mprintList\u001b[0m\u001b[0;34m[\u001b[0m\u001b[0mi\u001b[0m\u001b[0;34m]\u001b[0m\u001b[0;34m)\u001b[0m\u001b[0;34m\u001b[0m\u001b[0;34m\u001b[0m\u001b[0m\n\u001b[0m\u001b[1;32m      4\u001b[0m   \u001b[0mprint\u001b[0m\u001b[0;34m(\u001b[0m\u001b[0mkmeanLabels\u001b[0m\u001b[0;34m[\u001b[0m\u001b[0mi\u001b[0m\u001b[0;34m]\u001b[0m\u001b[0;34m)\u001b[0m\u001b[0;34m\u001b[0m\u001b[0;34m\u001b[0m\u001b[0m\n\u001b[1;32m      5\u001b[0m   \u001b[0mcompute_Entropy\u001b[0m\u001b[0;34m(\u001b[0m\u001b[0mkmeanLabels\u001b[0m\u001b[0;34m[\u001b[0m\u001b[0mi\u001b[0m\u001b[0;34m]\u001b[0m\u001b[0;34m,\u001b[0m\u001b[0mkvalues\u001b[0m\u001b[0;34m[\u001b[0m\u001b[0mi\u001b[0m\u001b[0;34m]\u001b[0m\u001b[0;34m)\u001b[0m\u001b[0;34m\u001b[0m\u001b[0;34m\u001b[0m\u001b[0m\n",
            "\u001b[0;31mIndexError\u001b[0m: list index out of range"
          ]
        }
      ]
    },
    {
      "metadata": {
        "id": "fh8IRnL3VsDs",
        "colab_type": "code",
        "colab": {}
      },
      "cell_type": "code",
      "source": [
        ""
      ],
      "execution_count": 0,
      "outputs": []
    }
  ]
}